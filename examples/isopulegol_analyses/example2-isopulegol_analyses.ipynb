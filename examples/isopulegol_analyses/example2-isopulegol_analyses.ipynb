{
 "cells": [
  {
   "cell_type": "code",
   "execution_count": 1,
   "metadata": {
    "ExecuteTime": {
     "end_time": "2022-12-11T14:13:26.019967Z",
     "start_time": "2022-12-11T14:13:25.797401Z"
    }
   },
   "outputs": [],
   "source": [
    "import os\n",
    "\n",
    "import matplotlib.pyplot as py\n",
    "import numpy as np\n",
    "\n",
    "from irsa.core.utils import load_spectrum, normalize_spectrum, load_peaks\n",
    "from irsa.core.spectrum_functions import deconvolute, voigt\n",
    "from irsa.core.algorithm import Algorithm\n",
    "from irsa.core.analyses import get_spearman_and_pearson\n"
   ]
  },
  {
   "cell_type": "markdown",
   "metadata": {},
   "source": [
    "Load experimental Spectrum and visualize"
   ]
  },
  {
   "cell_type": "code",
   "execution_count": 2,
   "metadata": {},
   "outputs": [],
   "source": [
    "path_to_experimental_dir = f\"{os.path.abspath('')}/data/experimental_spectra/\"\n",
    "experimental_ir_spectrum = normalize_spectrum(load_spectrum(f\"{path_to_experimental_dir}/ir_cdcl3.txt\"), lower=1000, upper=1500)\n",
    "experimental_raman_spectrum = normalize_spectrum(load_spectrum(f\"{path_to_experimental_dir}/raman_cdcl3.txt\"), lower=1000, upper=1500)"
   ]
  },
  {
   "cell_type": "markdown",
   "metadata": {},
   "source": [
    "Load spectrum for isomer_0, 1, 2 and 3"
   ]
  },
  {
   "cell_type": "code",
   "execution_count": 3,
   "metadata": {},
   "outputs": [],
   "source": [
    "path_to_theoretical_dir = f\"{os.path.abspath('')}/data/theoretical_spectra/\"\n",
    "theoretical_ir_spectra = []\n",
    "theoretical_raman_spectra = []\n",
    "for i in range(0, 4):\n",
    "    theoretical_ir_spectra.append(normalize_spectrum(load_spectrum(f\"{path_to_theoretical_dir}/isomer_{i}/ir_spectrum\"), lower=1000, upper=1800))\n",
    "    theoretical_raman_spectra.append(normalize_spectrum(load_spectrum(f\"{path_to_theoretical_dir}/isomer_{i}/raman_spectrum\"), lower=1000, upper=1800))"
   ]
  },
  {
   "cell_type": "markdown",
   "metadata": {},
   "source": [
    "Perform deconvolution of experimental and theoretical spectra, save it to file"
   ]
  },
  {
   "cell_type": "code",
   "execution_count": 4,
   "metadata": {},
   "outputs": [],
   "source": [
    "\n",
    "deconvolute(spectrum=experimental_ir_spectrum, working_dir=os.path.abspath(''), save_data='ir_exp_peaks.txt', normalize=True, lower=1000, higher=1500, vcd=False)\n",
    "deconvolute(spectrum=experimental_raman_spectrum, working_dir=os.path.abspath(''), save_data='raman_exp_peaks.txt', normalize=True, lower=1000, higher=1500, vcd=False)\n",
    "for i in range(0, 4):\n",
    "    deconvolute(spectrum=theoretical_ir_spectra[i], working_dir=os.path.abspath(''), save_data=f'ir_theo_peaks_{i}.txt', normalize=True, lower=1000, higher=1800, vcd=False)\n",
    "    deconvolute(spectrum=theoretical_raman_spectra[i], working_dir=os.path.abspath(''), save_data=f'raman_theo_peaks_{i}.txt', normalize=True, lower=1000, higher=1800, vcd=False)"
   ]
  },
  {
   "cell_type": "markdown",
   "metadata": {},
   "source": [
    "Load peaks and concatenate them accordingly"
   ]
  },
  {
   "cell_type": "markdown",
   "metadata": {},
   "source": [
    "Notice the use of kind of spectra. The numbers are arbitrary, however, 2 is reserved for VCD, since it allows for negative intensities.\n",
    "If you want to apply the algorithm for any other spectroscopy methods, you can just replace the numbers. Also, if you have more types, u can also accound for this, by just appending another integer.\n",
    "Notice that you would have to adapt the scoring function in irsa.core.algorithm"
   ]
  },
  {
   "cell_type": "code",
   "execution_count": 5,
   "metadata": {},
   "outputs": [
    {
     "data": {
      "image/png": "[encoded data removed]",
      "text/plain": [
       "<Figure size 640x480 with 1 Axes>"
      ]
     },
     "metadata": {},
     "output_type": "display_data"
    }
   ],
   "source": [
    "exp_peaks = load_peaks(paths=[f\"{os.path.abspath('')}/ir_exp_peaks.txt\", f\"{os.path.abspath('')}/raman_exp_peaks.txt\"], kind_of_spectra=[0, 1]) # first IR (0), second Raman (1), vcd would be (2)\n",
    "scs = [0.96, 0.965, 0.970, 0.975, 0.980, 0.985, 0.99, 0.995, 1]\n",
    "for i in range(0, 4):\n",
    "    theo_peaks = load_peaks(paths=[f\"{os.path.abspath('')}/ir_theo_peaks_{i}.txt\", f\"{os.path.abspath('')}/raman_theo_peaks_{i}.txt\"], kind_of_spectra=[0, 1])\n",
    "    combined_values = []\n",
    "    for sc in scs:\n",
    "        algo = Algorithm(exp_peaks=exp_peaks, theo_peaks=theo_peaks, lower_bound=1000, upper_bound=1500, sc=sc, cutoff=0.01)\n",
    "        return_value, old_freq, freq, inten, new_sigma, new_eta, kind_of_spectrum = algo.needleman()\n",
    "        x_ir, y_ir = voigt(freqs=freq[kind_of_spectrum==0], inten=inten[kind_of_spectrum==0], new_sigma=new_sigma[kind_of_spectrum==0], new_eta=new_eta[kind_of_spectrum==0]) # get convoluted ir Spectrum\n",
    "        x_raman, y_raman = voigt(freqs=freq[kind_of_spectrum==1], inten=inten[kind_of_spectrum==1], new_sigma=new_sigma[kind_of_spectrum==1], new_eta=new_eta[kind_of_spectrum==1]) # get convoluted raman Spectrum\n",
    "        pearson_ir, spearman_ir = get_spearman_and_pearson(spectrum_exp=experimental_ir_spectrum, spectrum_theo=np.concatenate([x_ir[:, np.newaxis], y_ir[:, np.newaxis]], axis=-1))\n",
    "        pearson_raman, spearman_raman = get_spearman_and_pearson(spectrum_exp=experimental_raman_spectrum, spectrum_theo=np.concatenate([x_raman[:, np.newaxis], y_raman[:, np.newaxis]], axis=-1))\n",
    "        combined_values.append(pearson_ir*spearman_ir*pearson_raman*spearman_raman*return_value)\n",
    "    py.plot(scs, combined_values, \"o\",label=f\"isomer {i}\")\n",
    "py.ylim(0, 1)\n",
    "py.legend()\n",
    "py.show()\n"
   ]
  },
  {
   "cell_type": "code",
   "execution_count": null,
   "metadata": {},
   "outputs": [],
   "source": []
  }
 ],
 "metadata": {
  "kernelspec": {
   "display_name": "Python 3 (ipykernel)",
   "language": "python",
   "name": "python3"
  },
  "language_info": {
   "codemirror_mode": {
    "name": "ipython",
    "version": 3
   },
   "file_extension": ".py",
   "mimetype": "text/x-python",
   "name": "python",
   "nbconvert_exporter": "python",
   "pygments_lexer": "ipython3",
   "version": "3.10.8"
  },
  "toc": {
   "base_numbering": 1,
   "nav_menu": {},
   "number_sections": true,
   "sideBar": true,
   "skip_h1_title": false,
   "title_cell": "Table of Contents",
   "title_sidebar": "Contents",
   "toc_cell": false,
   "toc_position": {},
   "toc_section_display": true,
   "toc_window_display": false
  },
  "vscode": {
   "interpreter": {
    "hash": "99728e2b9e414b2b391e026c432dfd8f21671c5f757c6bd2cd4984fe0e121a61"
   }
  }
 },
 "nbformat": 4,
 "nbformat_minor": 2
}
